{
  "nbformat": 4,
  "nbformat_minor": 0,
  "metadata": {
    "colab": {
      "name": "OOP_Concepts_2.ipynb",
      "provenance": [],
      "authorship_tag": "ABX9TyOY32ywCky39gyQ6vR17h9G",
      "include_colab_link": true
    },
    "kernelspec": {
      "name": "python3",
      "display_name": "Python 3"
    },
    "language_info": {
      "name": "python"
    }
  },
  "cells": [
    {
      "cell_type": "markdown",
      "metadata": {
        "id": "view-in-github",
        "colab_type": "text"
      },
      "source": [
        "<a href=\"https://colab.research.google.com/github/Josh-Sese/OOP-58001/blob/main/OOP_Concepts_2.ipynb\" target=\"_parent\"><img src=\"https://colab.research.google.com/assets/colab-badge.svg\" alt=\"Open In Colab\"/></a>"
      ]
    },
    {
      "cell_type": "markdown",
      "source": [
        "# **Classes with Multiple Objects**"
      ],
      "metadata": {
        "id": "onDGNmNL4VdU"
      }
    },
    {
      "cell_type": "code",
      "source": [
        "class Birds:\n",
        "  def __init__(self, bird_name):\n",
        "    self.bird_name = bird_name\n",
        "  def flying_birds(self):\n",
        "    print(f\"{self.bird_name} flies above the clouds\")\n",
        "  def non_flying_birds(self):\n",
        "    print(f\"{self.bird_name} is thr national bird of the Philippines\")\n",
        "\n",
        "vulture = Birds(\"Griffon Vulture\")\n",
        "crane = Birds(\"Common Crane\")\n",
        "emu = Birds(\"Emu\")\n",
        "\n",
        "vulture.flying_birds()\n",
        "crane.flying_birds()\n",
        "emu.non_flying_birds()"
      ],
      "metadata": {
        "colab": {
          "base_uri": "https://localhost:8080/"
        },
        "id": "3x3cSI7j4X50",
        "outputId": "68dc9486-73c0-4580-978f-87d90facfe1a"
      },
      "execution_count": 1,
      "outputs": [
        {
          "output_type": "stream",
          "name": "stdout",
          "text": [
            "Griffon Vulture flies above the clouds\n",
            "Common Crane flies above the clouds\n",
            "Emu is thr national bird of the Philippines\n"
          ]
        }
      ]
    },
    {
      "cell_type": "markdown",
      "source": [
        " **Encapsulation with Private Attributes**"
      ],
      "metadata": {
        "id": "Cuu_-6_L4fC9"
      }
    },
    {
      "cell_type": "code",
      "source": [
        "class foo:\n",
        "  def __init__(self,a,b):\n",
        "    self.a = a\n",
        "    self.b = b \n",
        "  def add(self):\n",
        "    return self.a+ self.b\n",
        "foo_object = foo(3,4)\n",
        "foo_object.add()\n",
        "\n",
        "foo_object.a = 6\n",
        "foo_object.add()"
      ],
      "metadata": {
        "colab": {
          "base_uri": "https://localhost:8080/"
        },
        "id": "GoyAzVEo4gX9",
        "outputId": "9ad0030a-0c35-4062-9f12-a39e4b3b03b6"
      },
      "execution_count": 2,
      "outputs": [
        {
          "output_type": "execute_result",
          "data": {
            "text/plain": [
              "10"
            ]
          },
          "metadata": {},
          "execution_count": 2
        }
      ]
    },
    {
      "cell_type": "code",
      "source": [
        "class foo:\n",
        "  def __init__(self,a, b):\n",
        "    self._a = a\n",
        "    self._b =b \n",
        "  def add(self):\n",
        "    return self._a + self._b\n",
        "foo_object = foo(3,4)\n",
        "\n",
        "foo_object.add()\n",
        "\n",
        "foo_object.a = 6\n",
        "foo_object.add()"
      ],
      "metadata": {
        "colab": {
          "base_uri": "https://localhost:8080/"
        },
        "id": "RvtOaaAV4kV1",
        "outputId": "6b378fa2-5544-4bc6-b9ed-3e07d08fff24"
      },
      "execution_count": 3,
      "outputs": [
        {
          "output_type": "execute_result",
          "data": {
            "text/plain": [
              "7"
            ]
          },
          "metadata": {},
          "execution_count": 3
        }
      ]
    },
    {
      "cell_type": "markdown",
      "source": [
        " **Encapsulation by managing with double underscores**"
      ],
      "metadata": {
        "id": "-JwLskMu4mQN"
      }
    },
    {
      "cell_type": "code",
      "source": [
        "class Counter:\n",
        "  def __init__(self):\n",
        "    self.current = 0 \n",
        "\n",
        "  def increment(self):\n",
        "    self.current += 1 #current = current+1\n",
        "  \n",
        "  def value(self):\n",
        "    return self.current\n",
        "  \n",
        "  def reset(self):\n",
        "    self.current = 0 \n",
        "  \n",
        "counter = Counter()\n",
        "\n",
        "counter.increment()\n",
        "counter.increment()\n",
        "counter.increment()\n",
        "\n",
        "print(counter.value())"
      ],
      "metadata": {
        "colab": {
          "base_uri": "https://localhost:8080/"
        },
        "id": "vZO545PM4q_N",
        "outputId": "a94d8b60-154c-4c54-8ea1-6a15aac2cd2d"
      },
      "execution_count": 5,
      "outputs": [
        {
          "output_type": "stream",
          "name": "stdout",
          "text": [
            "3\n"
          ]
        }
      ]
    },
    {
      "cell_type": "code",
      "source": [
        "class Counter:\n",
        "  def __init__(self):\n",
        "    self.__current = 0\n",
        "\n",
        "  def increment(self):\n",
        "    self.__current += 1 #current = currrent+1\n",
        "\n",
        "  def value(self):\n",
        "    return self.__current\n",
        "\n",
        "  def reset (self):\n",
        "    self.current = 0\n",
        "  \n",
        "counter = Counter()\n",
        "\n",
        "counter.increment()\n",
        "counter.increment()\n",
        "counter.increment()\n",
        "\n",
        "print(counter.reset())"
      ],
      "metadata": {
        "colab": {
          "base_uri": "https://localhost:8080/"
        },
        "id": "0YszWSed40Ol",
        "outputId": "9c1b3bc5-624e-49ad-f243-77b68e8583d7"
      },
      "execution_count": 6,
      "outputs": [
        {
          "output_type": "stream",
          "name": "stdout",
          "text": [
            "None\n"
          ]
        }
      ]
    },
    {
      "cell_type": "markdown",
      "source": [
        " **Inheritance**"
      ],
      "metadata": {
        "id": "q75R0xD_42rm"
      }
    },
    {
      "cell_type": "code",
      "source": [
        "class Person:\n",
        "  def __init__(self,fname,sname):\n",
        "    self.fname = fname\n",
        "    self.sname = sname\n",
        "  def printname(self):\n",
        "    print(self.fname,self.sname)\n",
        "  \n",
        "x = Person(\"Josh\",\"Sese\")\n",
        "x.printname()\n",
        "\n",
        "class Student(Person):\n",
        "  pass\n",
        "\n",
        "x = Student(\"Luffy\",\"Monkey\")\n",
        "x.printname()\n"
      ],
      "metadata": {
        "colab": {
          "base_uri": "https://localhost:8080/"
        },
        "id": "NzEPvmW95Bwt",
        "outputId": "77d4e74b-e508-4ad6-b6a1-c09baac1a596"
      },
      "execution_count": 7,
      "outputs": [
        {
          "output_type": "stream",
          "name": "stdout",
          "text": [
            "Josh Sese\n",
            "Luffy Monkey\n"
          ]
        }
      ]
    },
    {
      "cell_type": "markdown",
      "source": [
        "**Polymorphism**"
      ],
      "metadata": {
        "id": "21bJiuMQ5a_k"
      }
    },
    {
      "cell_type": "code",
      "source": [
        "class RegularPolygon:\n",
        "  def __init__(self, side=1):\n",
        "    self._side = side\n",
        "class Square(RegularPolygon):\n",
        "  def area(self):\n",
        "    return self._side * self._side\n",
        "class EquilateralTriangle(RegularPolygon):\n",
        "  def area(self):\n",
        "    return self._side * self._side * 0.433 \n",
        "\n",
        "obj1 = Square(4)\n",
        "obj2 = EquilateralTriangle(3)\n",
        "\n",
        "print(obj1.area())\n",
        "print(obj2.area())"
      ],
      "metadata": {
        "colab": {
          "base_uri": "https://localhost:8080/"
        },
        "id": "izxiZ4J05ew7",
        "outputId": "e1362aae-bd92-43a6-d4e3-f121678c5de2"
      },
      "execution_count": 8,
      "outputs": [
        {
          "output_type": "stream",
          "name": "stdout",
          "text": [
            "16\n",
            "3.897\n"
          ]
        }
      ]
    },
    {
      "cell_type": "markdown",
      "source": [
        "1. Create a Python program that displays the name of three students (Studer 1, Student 2, and Student 3) and the term grades\n",
        "2. Create a class name Person and attributes - std1, std2, std3, pre,mid, fin\n",
        "3. Compute the average of each term grade using Grade() method\n",
        "4. Information about student's grades must be hidden from others\n",
        "\n",
        "\n",
        "\n",
        "\n",
        "\n",
        "\n"
      ],
      "metadata": {
        "id": "k5bY59db5o9m"
      }
    },
    {
      "cell_type": "code",
      "source": [
        "import random \n",
        "\n",
        "class Person:\n",
        "  def __init__(self, student, pre, mid, fin):\n",
        "    self.student = student\n",
        "    self.pre = pre *0.30\n",
        "    self.mid = mid *0.30\n",
        "    self.fin = fin *0.40\n",
        "\n",
        "  def Grade (self):\n",
        "    print (self.student, \"has an average grade of\", self.pre, \"in prelims\")\n",
        "    print (self.student, \"has an average grade of\", self.mid, \"in midterms\")\n",
        "    print (self.student, \"has an average grade of\", self.fin, \"in finals\")\n",
        "\n",
        "std1 = Person (\"Kizaru\", random.randint(85,99), random.randint(90,99), random.randint(95,99))\n",
        "std2 = Person (\"Akainu\", random.randint(85,99), random.randint(90,99), random.randint(95,99))\n",
        "std3 = Person (\"Aokiji\", random.randint(85,99), random.randint(90,99), random.randint(95,99))\n",
        "\n",
        "std1.Grade()\n",
        "std2.Grade()\n",
        "std3.Grade()"
      ],
      "metadata": {
        "colab": {
          "base_uri": "https://localhost:8080/"
        },
        "id": "X5HiBbSV5_xc",
        "outputId": "2dd62e1b-6510-4481-ba5c-051a498e376c"
      },
      "execution_count": 9,
      "outputs": [
        {
          "output_type": "stream",
          "name": "stdout",
          "text": [
            "Kizaru has an average grade of 27.0 in prelims\n",
            "Kizaru has an average grade of 28.5 in midterms\n",
            "Kizaru has an average grade of 38.400000000000006 in finals\n",
            "Akainu has an average grade of 25.8 in prelims\n",
            "Akainu has an average grade of 28.799999999999997 in midterms\n",
            "Akainu has an average grade of 38.400000000000006 in finals\n",
            "Aokiji has an average grade of 26.7 in prelims\n",
            "Aokiji has an average grade of 29.099999999999998 in midterms\n",
            "Aokiji has an average grade of 39.2 in finals\n"
          ]
        }
      ]
    }
  ]
}