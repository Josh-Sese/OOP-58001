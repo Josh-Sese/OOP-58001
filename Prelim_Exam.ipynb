{
  "nbformat": 4,
  "nbformat_minor": 0,
  "metadata": {
    "colab": {
      "name": "Prelim Exam.ipynb",
      "provenance": [],
      "authorship_tag": "ABX9TyN43ywP43yv58/GO1cuPWbt",
      "include_colab_link": true
    },
    "kernelspec": {
      "name": "python3",
      "display_name": "Python 3"
    },
    "language_info": {
      "name": "python"
    }
  },
  "cells": [
    {
      "cell_type": "markdown",
      "metadata": {
        "id": "view-in-github",
        "colab_type": "text"
      },
      "source": [
        "<a href=\"https://colab.research.google.com/github/Josh-Sese/OOP-58001/blob/main/Prelim_Exam.ipynb\" target=\"_parent\"><img src=\"https://colab.research.google.com/assets/colab-badge.svg\" alt=\"Open In Colab\"/></a>"
      ]
    },
    {
      "cell_type": "code",
      "source": [
        "class Student:\n",
        "  def __init__(Self,Name,student_no,Age,School,Course):\n",
        "    self.Namme = Name\n",
        "    self.Student_No = Student_No\n",
        "    self.age = Age\n",
        "    self.School = school\n",
        "    self.Course = Course\n",
        "    def self(self):\n",
        "      return f'name:  {self.Name }\\nStudent Number:  {self.Student_No}\\nAge:  {self.age}\\nSchool: {self.school}\\nCourse: {self.course}'\n",
        "      Myself = Student(\"Josh Gabriel E. Sese\", 202117298, \"Adamson University\", \"BS In Computer Engineering\")\n",
        "      print (Myself.self())"
      ],
      "metadata": {
        "id": "-eyx1QODJtAL"
      },
      "execution_count": 1,
      "outputs": []
    }
  ]
}