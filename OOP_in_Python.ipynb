{
  "nbformat": 4,
  "nbformat_minor": 0,
  "metadata": {
    "colab": {
      "name": "OOP in Python",
      "provenance": [],
      "authorship_tag": "ABX9TyOigBa1bqXWC9KXFnJ/UuWu",
      "include_colab_link": true
    },
    "kernelspec": {
      "name": "python3",
      "display_name": "Python 3"
    },
    "language_info": {
      "name": "python"
    }
  },
  "cells": [
    {
      "cell_type": "markdown",
      "metadata": {
        "id": "view-in-github",
        "colab_type": "text"
      },
      "source": [
        "<a href=\"https://colab.research.google.com/github/Josh-Sese/OOP-58001/blob/main/OOP_in_Python.ipynb\" target=\"_parent\"><img src=\"https://colab.research.google.com/assets/colab-badge.svg\" alt=\"Open In Colab\"/></a>"
      ]
    },
    {
      "cell_type": "markdown",
      "source": [
        "# **OOIn Python - Sese, Josh**"
      ],
      "metadata": {
        "id": "bP7KxxuBldh9"
      }
    },
    {
      "cell_type": "code",
      "source": [
        "class MyClass:\n",
        "  pass       "
      ],
      "metadata": {
        "id": "IAJukIBPlndj"
      },
      "execution_count": 1,
      "outputs": []
    },
    {
      "cell_type": "code",
      "source": [
        "class MyClass:        #the name of the class\n",
        "  x = 40"
      ],
      "metadata": {
        "id": "MwonJSSwlr6t"
      },
      "execution_count": 2,
      "outputs": []
    },
    {
      "cell_type": "code",
      "source": [
        "class Car():                          #Create a class named car\n",
        "  def __init__(self,name,color):\n",
        "    self.name = name                  #represents the instance of class named Car\n",
        "    self.color = color                \n",
        "\n",
        "  def description(self):\n",
        "    return self.name, self.color\n",
        "  \n",
        "  def display(self):\n",
        "    print (\"The name and color of the car \", self.description())\n",
        "obj1 = Car(\"Mazda\",\"black\")\n",
        "obj1.display()"
      ],
      "metadata": {
        "colab": {
          "base_uri": "https://localhost:8080/"
        },
        "id": "GAFRaaZNlw1c",
        "outputId": "e9a59a3a-6eca-4371-9de9-fd8d4d2beb97"
      },
      "execution_count": 3,
      "outputs": [
        {
          "output_type": "stream",
          "name": "stdout",
          "text": [
            "The name and color of the car  ('Mazda', 'black')\n"
          ]
        }
      ]
    },
    {
      "cell_type": "markdown",
      "source": [
        "**Modify an Object Property**"
      ],
      "metadata": {
        "id": "SeIBxwE0l4zU"
      }
    },
    {
      "cell_type": "code",
      "source": [
        "obj1.name = \"Toyota\"\n",
        "print(obj1.name)"
      ],
      "metadata": {
        "colab": {
          "base_uri": "https://localhost:8080/"
        },
        "id": "6hupRCj3l7aU",
        "outputId": "f5cb41ea-9a89-4261-fa4a-c0b4fa85d42d"
      },
      "execution_count": 4,
      "outputs": [
        {
          "output_type": "stream",
          "name": "stdout",
          "text": [
            "Toyota\n"
          ]
        }
      ]
    },
    {
      "cell_type": "code",
      "source": [
        "obj1.display()\n"
      ],
      "metadata": {
        "colab": {
          "base_uri": "https://localhost:8080/"
        },
        "id": "dxXIWwKimCv1",
        "outputId": "83e70d10-9d0f-4275-cfe3-a61ff8613217"
      },
      "execution_count": 5,
      "outputs": [
        {
          "output_type": "stream",
          "name": "stdout",
          "text": [
            "The name and color of the car  ('Toyota', 'black')\n"
          ]
        }
      ]
    },
    {
      "cell_type": "markdown",
      "source": [
        "**Delete the Object Property**"
      ],
      "metadata": {
        "id": "9SipEpD-mEu9"
      }
    },
    {
      "cell_type": "code",
      "source": [
        "class Car():                          #Create a class named car\n",
        "  def __init__(self,name,color):\n",
        "    self.name = name                  #represents the instance of class named Car\n",
        "    self.color = color                \n",
        "\n",
        "  def description(self):\n",
        "    return self.name, self.color\n",
        "  \n",
        "  def display(self):\n",
        "    print (\"The name and color of the car \", self.description())\n",
        "obj1 = Car(\"Mazda\",\"black\")\n",
        "obj1.display()"
      ],
      "metadata": {
        "colab": {
          "base_uri": "https://localhost:8080/"
        },
        "id": "NH93PpvnmFtV",
        "outputId": "0740fca8-98c7-4835-a3af-2f0dca095e4a"
      },
      "execution_count": 6,
      "outputs": [
        {
          "output_type": "stream",
          "name": "stdout",
          "text": [
            "The name and color of the car  ('Mazda', 'black')\n"
          ]
        }
      ]
    },
    {
      "cell_type": "code",
      "source": [
        "del obj1.color\n",
        "obj1.display()"
      ],
      "metadata": {
        "colab": {
          "base_uri": "https://localhost:8080/",
          "height": 183
        },
        "id": "O-82bPwwqcZE",
        "outputId": "f6ef0320-17b6-4ec3-e7f0-c3d2bdd7217c"
      },
      "execution_count": 14,
      "outputs": [
        {
          "output_type": "error",
          "ename": "NameError",
          "evalue": "ignored",
          "traceback": [
            "\u001b[0;31m---------------------------------------------------------------------------\u001b[0m",
            "\u001b[0;31mNameError\u001b[0m                                 Traceback (most recent call last)",
            "\u001b[0;32m<ipython-input-14-9189caea74dd>\u001b[0m in \u001b[0;36m<module>\u001b[0;34m()\u001b[0m\n\u001b[0;32m----> 1\u001b[0;31m \u001b[0;32mdel\u001b[0m \u001b[0mobj1\u001b[0m\u001b[0;34m.\u001b[0m\u001b[0mcolor\u001b[0m\u001b[0;34m\u001b[0m\u001b[0;34m\u001b[0m\u001b[0m\n\u001b[0m\u001b[1;32m      2\u001b[0m \u001b[0mobj1\u001b[0m\u001b[0;34m.\u001b[0m\u001b[0mdisplay\u001b[0m\u001b[0;34m(\u001b[0m\u001b[0;34m)\u001b[0m\u001b[0;34m\u001b[0m\u001b[0;34m\u001b[0m\u001b[0m\n",
            "\u001b[0;31mNameError\u001b[0m: name 'obj1' is not defined"
          ]
        }
      ]
    },
    {
      "cell_type": "code",
      "source": [
        "del obj1\n",
        "obj1.display()"
      ],
      "metadata": {
        "colab": {
          "base_uri": "https://localhost:8080/",
          "height": 183
        },
        "id": "n0oGJRIWqfhM",
        "outputId": "4cdf2621-3307-44bc-b1ca-0de6c2f163a6"
      },
      "execution_count": 13,
      "outputs": [
        {
          "output_type": "error",
          "ename": "NameError",
          "evalue": "ignored",
          "traceback": [
            "\u001b[0;31m---------------------------------------------------------------------------\u001b[0m",
            "\u001b[0;31mNameError\u001b[0m                                 Traceback (most recent call last)",
            "\u001b[0;32m<ipython-input-13-91368394876f>\u001b[0m in \u001b[0;36m<module>\u001b[0;34m()\u001b[0m\n\u001b[1;32m      1\u001b[0m \u001b[0;32mdel\u001b[0m \u001b[0mobj1\u001b[0m\u001b[0;34m\u001b[0m\u001b[0;34m\u001b[0m\u001b[0m\n\u001b[0;32m----> 2\u001b[0;31m \u001b[0mobj1\u001b[0m\u001b[0;34m.\u001b[0m\u001b[0mdisplay\u001b[0m\u001b[0;34m(\u001b[0m\u001b[0;34m)\u001b[0m\u001b[0;34m\u001b[0m\u001b[0;34m\u001b[0m\u001b[0m\n\u001b[0m",
            "\u001b[0;31mNameError\u001b[0m: name 'obj1' is not defined"
          ]
        }
      ]
    },
    {
      "cell_type": "markdown",
      "source": [
        "**Application 1 - Write a python program to compute the area and perimeter of a rectangle. Use Rectangle as class name and length and wiidth as attributes**"
      ],
      "metadata": {
        "id": "DXSu6IiPnIbK"
      }
    },
    {
      "cell_type": "code",
      "source": [
        "class Rectangle():                          #Create a class named Rectangle\n",
        "  def __init__(self,length,width):\n",
        "    self.length = length                  #represents the instance of class named Rectangle\n",
        "    self.width = width                \n",
        "\n",
        "  def Area(self):\n",
        "    return self.length*self.width\n",
        "  \n",
        "  def Perimeter(self):\n",
        "    return 2*(self.length+self.width)\n",
        "  \n",
        "  def display(self):\n",
        "    print (\"The area of rectangle is  \", self.Area())\n",
        "    print (\"The perimeter of rectangle is \", self.Perimeter())\n",
        "\n",
        "pol = Rectangle(8,4.5)\n",
        "pol.display()"
      ],
      "metadata": {
        "colab": {
          "base_uri": "https://localhost:8080/"
        },
        "id": "2yvRpH5hnNNz",
        "outputId": "ffadb1b0-9c4c-48ef-9a36-32be98b1e1be"
      },
      "execution_count": 11,
      "outputs": [
        {
          "output_type": "stream",
          "name": "stdout",
          "text": [
            "The area of rectangle is   36.0\n",
            "The perimeter of rectangle is  25.0\n"
          ]
        }
      ]
    },
    {
      "cell_type": "markdown",
      "source": [
        "**Application 2 - Write a python program to display a class name OOP_58001 with student no. and fullname (Surname, Firstname) as attributes**"
      ],
      "metadata": {
        "id": "BfA-2OgNnQx0"
      }
    },
    {
      "cell_type": "code",
      "source": [
        "class Person:\n",
        " def __init__(self,student,number):\n",
        "  self.student = student\n",
        "  self.number = number\n",
        "\n",
        " def myFunction(self):\n",
        "  print(\"I am\",self.student,\"and my student number is\",self.number,\".\")\n",
        "  print(\"Section-OOP_58001\")\n",
        "\n",
        "\n",
        "p1= Person(\"Sese, Josh Gabriel E.\", 202117298)\n",
        "p1.myFunction()"
      ],
      "metadata": {
        "colab": {
          "base_uri": "https://localhost:8080/"
        },
        "id": "xMuooaSVnRp9",
        "outputId": "8cba770b-ce73-4b82-884d-faed113e0a70"
      },
      "execution_count": 10,
      "outputs": [
        {
          "output_type": "stream",
          "name": "stdout",
          "text": [
            "I am Sese, Josh Gabriel E. and my student number is 202117298 .\n",
            "Section-OOP_58001\n"
          ]
        }
      ]
    }
  ]
}